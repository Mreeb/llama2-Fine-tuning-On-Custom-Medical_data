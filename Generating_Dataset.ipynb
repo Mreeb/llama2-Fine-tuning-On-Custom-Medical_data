{
  "nbformat": 4,
  "nbformat_minor": 0,
  "metadata": {
    "colab": {
      "provenance": [],
      "authorship_tag": "ABX9TyO4snwH7rb2xnKo68UsK/U7",
      "include_colab_link": true
    },
    "kernelspec": {
      "name": "python3",
      "display_name": "Python 3"
    },
    "language_info": {
      "name": "python"
    }
  },
  "cells": [
    {
      "cell_type": "markdown",
      "metadata": {
        "id": "view-in-github",
        "colab_type": "text"
      },
      "source": [
        "<a href=\"https://colab.research.google.com/github/Mreeb/llama2-Fine-tuning-On-Custom-Medical_data/blob/master/Generating_Dataset.ipynb\" target=\"_parent\"><img src=\"https://colab.research.google.com/assets/colab-badge.svg\" alt=\"Open In Colab\"/></a>"
      ]
    },
    {
      "cell_type": "markdown",
      "source": [
        "# Installing Some Required Libraies"
      ],
      "metadata": {
        "id": "QR_pN1IpGskO"
      }
    },
    {
      "cell_type": "code",
      "execution_count": 61,
      "metadata": {
        "id": "JJQI7xBSF8rW"
      },
      "outputs": [],
      "source": [
        "!pip install -q accelerate==0.21.0 peft==0.4.0 bitsandbytes==0.40.2 transformers==4.31.0 trl==0.4.7 openai == 0.27.8"
      ]
    },
    {
      "cell_type": "markdown",
      "source": [
        "# Importing Required Libraies"
      ],
      "metadata": {
        "id": "1_easRupGx7u"
      }
    },
    {
      "cell_type": "code",
      "source": [
        "import os\n",
        "import openai\n",
        "import random\n",
        "import torch\n",
        "from datasets import load_dataset\n",
        "from transformers import (\n",
        "    AutoModelForCausalLM,\n",
        "    AutoTokenizer,\n",
        "    BitsAndBytesConfig,\n",
        "    HfArgumentParser,\n",
        "    TrainingArguments,\n",
        "    pipeline,\n",
        "    logging,\n",
        ")\n",
        "from peft import LoraConfig, PeftModel\n",
        "from trl import SFTTrainer\n",
        "from transformers import pipeline"
      ],
      "metadata": {
        "colab": {
          "base_uri": "https://localhost:8080/"
        },
        "id": "1BF888X6GG9g",
        "outputId": "cb3408fc-3065-42f6-817d-a91d712ea9d6"
      },
      "execution_count": 2,
      "outputs": [
        {
          "output_type": "stream",
          "name": "stderr",
          "text": [
            "/usr/local/lib/python3.10/dist-packages/bitsandbytes/cextension.py:34: UserWarning: The installed version of bitsandbytes was compiled without GPU support. 8-bit optimizers, 8-bit multiplication, and GPU quantization are unavailable.\n",
            "  warn(\"The installed version of bitsandbytes was compiled without GPU support. \"\n"
          ]
        },
        {
          "output_type": "stream",
          "name": "stdout",
          "text": [
            "/usr/local/lib/python3.10/dist-packages/bitsandbytes/libbitsandbytes_cpu.so: undefined symbol: cadam32bit_grad_fp32\n"
          ]
        }
      ]
    },
    {
      "cell_type": "markdown",
      "source": [
        "# Your OpenAI key You Can Get One For Free as Well"
      ],
      "metadata": {
        "id": "i93__ydnG6oP"
      }
    },
    {
      "cell_type": "code",
      "source": [
        "Key = \"YOUR API KEY""
      ],
      "metadata": {
        "id": "ZI4ul6teGHnF"
      },
      "execution_count": 3,
      "outputs": []
    },
    {
      "cell_type": "code",
      "source": [
        "openai.api_key = Key"
      ],
      "metadata": {
        "id": "aIBw6fygGJup"
      },
      "execution_count": 4,
      "outputs": []
    },
    {
      "cell_type": "markdown",
      "source": [
        "# Range of Diffrent Prompts"
      ],
      "metadata": {
        "id": "3zhPVoWbHDcw"
      }
    },
    {
      "cell_type": "code",
      "source": [
        "p1 = \"An AI model that provides concise information about psoriasis, including its causes, symptoms, recommended medications, and treatment options.\"\n",
        "p2 = \"An AI model that offers brief and accurate insights into acne, covering its etiology, symptoms, suggested treatments, and available modalities.\"\n",
        "p3 = \"An AI model that delivers precise responses about eczema, encompassing its causes, common symptoms, recommended medications, and treatment approaches.\"\n",
        "p4 = \"An AI model that offers detailed information about melanoma, covering its etiology, common symptoms, recommended medications, and treatment modalities.\"\n",
        "p5 = \"An AI model that provides concise insights into rosacea, including its causes, common symptoms, recommended medications, and available treatment modalities.\"\n",
        "p6 = \"An AI model that delivers accurate information about vitiligo, encompassing its etiology, symptoms, suggested treatments, and available modalities.\"\n",
        "p7 = \"An AI model that offers brief and precise responses about hives, covering their causes, common symptoms, recommended medications, and treatment approaches.\"\n",
        "p8 = \"An AI model that provides detailed information about impetigo, including its etiology, symptoms, recommended medications, and treatment options.\"\n",
        "p9 = \"An AI model that offers concise insights into shingles, including its causes, common symptoms, recommended medications, and available treatment modalities.\"\n",
        "p10 = \"An AI model that delivers accurate information about fungal infections, encompassing their etiology, symptoms, suggested treatments, and available modalities.\"\n",
        "p11 = \"An AI model that provides brief and accurate information about atopic dermatitis, covering its causes, symptoms, recommended medications, and available treatment modalities.\"\n",
        "p12 = \"An AI model that offers concise insights into contact dermatitis, including its etiology, common symptoms, suggested treatments, and available modalities.\"\n",
        "p13 = \"An AI model that delivers precise responses about seborrheic dermatitis, encompassing its causes, common symptoms, recommended medications, and treatment approaches.\"\n",
        "p14 = \"An AI model that delivers precise information about cellulitis, covering its etiology, symptoms, recommended medications, and treatment options.\"\n",
        "p15 = \"An AI model that offers accurate information about fungal nail infections, including their causes, common symptoms, recommended medications, and treatment modalities.\"\n",
        "p16 = \"An AI model that delivers concise insights into keratosis pilaris, encompassing its etiology, symptoms, suggested treatments, and available modalities.\"\n",
        "p17 =\"An AI model that provides brief and precise responses about tinea versicolor, covering its causes, symptoms, recommended medications, and treatment approaches.\"\n",
        "p18 =\"An AI model that offers concise information about dermatitis herpetiformis, including its etiology, common symptoms, recommended medications, and available treatment modalities.\"\n",
        "p19 =\"An AI model that delivers accurate information about lichen planus, encompassing its causes, common symptoms, suggested treatments, and treatment approaches.\"\n",
        "p20 =\"An AI model that provides concise insights into molluscum contagiosum, covering its etiology, symptoms, recommended medications, and treatment options.\"\n",
        "p21 =\"An AI model that offers brief and accurate information about impetigo, including its causes, common symptoms, suggested treatments, and available modalities.\"\n",
        "p22 =\"An AI model that delivers precise responses about staphylococcal scalded skin syndrome, encompassing its causes, symptoms, recommended medications, and treatment approaches.\"\n",
        "p23 =\"An AI model that provides detailed information about erythema multiforme, including its etiology, common symptoms, recommended medications, and available treatment modalities.\"\n",
        "p24 =\"An AI model that offers accurate information about pityriasis rosea, encompassing its causes, symptoms, suggested treatments, and treatment options.\"\n",
        "p25 =\"An AI model that delivers concise insights into necrotizing fasciitis, covering its etiology, common symptoms, recommended medications, and treatment approaches.\"\n",
        "p26 =\"An AI model that provides brief and precise responses about granuloma annulare, including its causes, symptoms, recommended medications, and available modalities.\"\n",
        "p27 =\"An AI model that offers detailed information about pyoderma gangrenosum, encompassing its causes, common symptoms, suggested treatments, and treatment approaches.\"\n",
        "p28 =\"An AI model that delivers accurate information about erythema nodosum, including its causes, common symptoms, recommended medications, and treatment modalities.\"\n",
        "p29 =\"An AI model that provides concise insights into scleroderma, covering its etiology, symptoms, recommended medications, and treatment options.\"\n",
        "p30 =\"An AI model that offers brief and accurate information about Marjolin's ulcer, including its causes, common symptoms, suggested treatments, and available modalities.\"\n",
        "p31 =\"An AI model that delivers precise responses about skin burns, encompassing their causes, symptoms, recommended first aid, and treatment approaches.\"\n",
        "p32 =\"An AI model that provides detailed information about sunburns, covering their causes, common symptoms, recommended home remedies, and prevention strategies.\"\n",
        "p33 =\"An AI model that provides concise insights into tinea corporis, encompassing its etiology, symptoms, recommended antifungal medications, and treatment modalities.\"\n",
        "p34 =\"An AI model that offers concise and accurate information about prurigo nodularis, covering its causes, common symptoms, suggested treatments, and available modalities.\"\n",
        "p35 =\"An AI model that delivers precise responses about hidradenitis suppurativa, encompassing its etiology, symptoms, recommended medications, and treatment approaches.\"\n",
        "p36 =\"An AI model that provides detailed information about alopecia areata, including its causes, symptoms, recommended treatment options, and available therapies.\"\n",
        "p37 =\"An AI model that offers accurate information about bullous pemphigoid, encompassing its causes, common symptoms, suggested treatments, and treatment modalities.\"\n",
        "p38 =\"An AI model that delivers concise insights into xeroderma pigmentosum, covering its etiology, symptoms, recommended sun protection measures, and treatment approaches.\"\n",
        "p39 =\"An AI model that delivers concise insights into dermatomyositis, including its causes, symptoms, recommended medications, and treatment options.\"\n",
        "p40 =\"An AI model that offers detailed information about keratosis follicularis, also known as Darier's disease, covering its etiology, symptoms, suggested treatments, and available modalities.\"\n",
        "p41 =\"An AI model that delivers accurate information about lipodermatosclerosis, encompassing its causes, common symptoms, suggested treatments, and treatment approaches.\"\n",
        "p42 =\"An AI model that provides concise insights into erythema ab igne, covering its causes, symptoms, recommended cooling measures, and treatment options.\"\n",
        "p43 =\"An AI model that offers brief and accurate information about phaeohyphomycosis, encompassing its causes, common symptoms, suggested antifungal treatments, and available modalities.\"\n",
        "p44 =\"An AI model that provides concise insights into necrobiotic xanthogranuloma, encompassing its causes, symptoms, recommended medications, and treatment approaches.\"\n",
        "p45 =\"An AI model that provides detailed information about lichen sclerosus, including its causes, symptoms, recommended treatments, and available treatment modalities.\"\n",
        "p46 =\"An AI model that provides concise insights into bullous lichen planus, encompassing its causes, common symptoms, suggested treatments, and treatment options.\"\n",
        "p47 =\"An AI model that provides concise insights into actinic prurigo, covering its causes, symptoms, recommended sun protection measures, and treatment approaches.\"\n",
        "p48 =\"An AI model that provides concise insights into pretibial myxedema, encompassing its causes, symptoms, recommended medications, and treatment modalities.\"\n",
        "p49 =\"An AI model that provides concise insights into livedoid vasculopathy, including its causes, common symptoms, suggested treatments, and treatment approaches.\"\n",
        "p50 =\"An AI model that provides concise insights into cutaneous leishmaniasis, encompassing its causes, common symptoms, suggested antiparasitic medications, and treatment modalities.\"\n",
        "p51 =\"An AI model that provides concise insights into confluent and reticulated papillomatosis, covering its causes, symptoms, recommended treatments, and available treatment options.\"\n",
        "p52 =\"An AI model that provides concise insights into multiple self-healing squamous epithelioma, encompassing its causes, common symptoms, suggested treatments, and treatment approaches.\"\n",
        "p53 = \"An AI model that provides guidance on maintaining healthy skin through dietary choices, lifestyle practices, and skincare routines.\"\n",
        "p54 = \"An AI model that provides comprehensive information about skin wounds and related conditions, including their causes, common symptoms, recommended treatments, and available medical and self-care approaches.\""
      ],
      "metadata": {
        "id": "sojpWKyNGM2l"
      },
      "execution_count": 6,
      "outputs": []
    },
    {
      "cell_type": "markdown",
      "source": [
        "# Initializing Some Required Variables"
      ],
      "metadata": {
        "id": "lM885DMdHIIM"
      }
    },
    {
      "cell_type": "code",
      "source": [
        "prev_examples = []\n",
        "prompt = p53\n",
        "temperature = 0.8\n",
        "number_of_examples = 3\n",
        "prompt"
      ],
      "metadata": {
        "colab": {
          "base_uri": "https://localhost:8080/",
          "height": 35
        },
        "id": "kb7ZaaoAGPOW",
        "outputId": "3f59c6e2-9b9d-4222-9a9a-e04bdb1088d5"
      },
      "execution_count": 13,
      "outputs": [
        {
          "output_type": "execute_result",
          "data": {
            "text/plain": [
              "'An AI model that provides guidance on maintaining healthy skin through dietary choices, lifestyle practices, and skincare routines.'"
            ],
            "application/vnd.google.colaboratory.intrinsic+json": {
              "type": "string"
            }
          },
          "metadata": {},
          "execution_count": 13
        }
      ]
    },
    {
      "cell_type": "markdown",
      "source": [
        "# Generating Dataset"
      ],
      "metadata": {
        "id": "U2oTiVHZHTDC"
      }
    },
    {
      "cell_type": "code",
      "source": [
        "def generate_example(prompt, prev_examples, temperature=.8):\n",
        "    messages=[\n",
        "        {\n",
        "            \"role\": \"system\",\n",
        "            \"content\": f\"You are generating data which will be used to train a Medical chatbot.\\n\\nYou will be given a high-level description of the model we want to train, and from that, you will generate data samples, each with a prompt/response pair.\\n\\nYou will do so in this format:\\n```\\nprompt\\n-----------\\n$prompt_goes_here\\n-----------\\n\\nresponse\\n-----------\\n$response_goes_here\\n-----------\\n```\\n\\nOnly one prompt/response pair should be generated per turn.\\n\\nMake sure your samples are unique and diverse, yet high-quality and complex enough to train a well-performing model.\\n\\nHere is the type of model we want to train:\\n`{prompt}`\"\n",
        "        }\n",
        "    ]\n",
        "\n",
        "    if len(prev_examples) > 0:\n",
        "        if len(prev_examples) > 10:\n",
        "            prev_examples = random.sample(prev_examples, 10)\n",
        "        for example in prev_examples:\n",
        "            messages.append({\n",
        "                \"role\": \"assistant\",\n",
        "                \"content\": example\n",
        "            })\n",
        "\n",
        "    response = openai.ChatCompletion.create(\n",
        "        model=\"gpt-4\",\n",
        "        messages=messages,\n",
        "        temperature=temperature,\n",
        "        max_tokens=200,\n",
        "    )\n",
        "\n",
        "    return response.choices[0].message['content']\n",
        "for i in range(number_of_examples):\n",
        "    print(f'Generating example {i}')\n",
        "    example = generate_example(prompt, prev_examples, temperature)\n",
        "    prev_examples.append(example)"
      ],
      "metadata": {
        "colab": {
          "base_uri": "https://localhost:8080/"
        },
        "id": "cXtS2e0_GdQB",
        "outputId": "f1d5fcc1-150a-4437-952a-1236ff23347c"
      },
      "execution_count": 14,
      "outputs": [
        {
          "output_type": "stream",
          "name": "stdout",
          "text": [
            "Generating example 0\n",
            "Generating example 1\n",
            "Generating example 2\n"
          ]
        }
      ]
    },
    {
      "cell_type": "markdown",
      "source": [
        "## Cleaning Dataset"
      ],
      "metadata": {
        "id": "-yE14jUEezwB"
      }
    },
    {
      "cell_type": "code",
      "source": [
        "import pandas as pd\n",
        "prompts = []\n",
        "responses = []\n",
        "\n",
        "for example in prev_examples:\n",
        "  try:\n",
        "    split_example = example.split('-----------')\n",
        "    prompts.append(split_example[1].strip())\n",
        "    responses.append(split_example[3].strip())\n",
        "  except:\n",
        "    pass\n",
        "\n",
        "df = pd.DataFrame({\n",
        "    'prompt': prompts,\n",
        "    'response': responses\n",
        "})\n",
        "\n",
        "\n",
        "df = df.drop_duplicates(subset='prompt')\n",
        "\n",
        "print('There are ' + str(len(df)) + ' successfully-generated examples. Here are the first few:')\n",
        "df.tail(10)\n"
      ],
      "metadata": {
        "colab": {
          "base_uri": "https://localhost:8080/",
          "height": 161
        },
        "id": "B47fu-bjGfqr",
        "outputId": "13cebf34-e29c-43f1-9363-2a2a9bf0e303"
      },
      "execution_count": 15,
      "outputs": [
        {
          "output_type": "stream",
          "name": "stdout",
          "text": [
            "There are 3 successfully-generated examples. Here are the first few:\n"
          ]
        },
        {
          "output_type": "execute_result",
          "data": {
            "text/plain": [
              "                                              prompt  \\\n",
              "0  I have oily skin and I keep getting acne. What...   \n",
              "1  What daily skincare routine should I follow if...   \n",
              "2  How can I prevent premature skin aging? Can my...   \n",
              "\n",
              "                                            response  \n",
              "0  A diet rich in fruits, vegetables, lean protei...  \n",
              "1  For dry skin, the goal is to maintain hydratio...  \n",
              "2  Absolutely, diet can significantly impact your...  "
            ],
            "text/html": [
              "\n",
              "  <div id=\"df-7a888073-0de9-49fd-aab1-cd462b2c2ea1\" class=\"colab-df-container\">\n",
              "    <div>\n",
              "<style scoped>\n",
              "    .dataframe tbody tr th:only-of-type {\n",
              "        vertical-align: middle;\n",
              "    }\n",
              "\n",
              "    .dataframe tbody tr th {\n",
              "        vertical-align: top;\n",
              "    }\n",
              "\n",
              "    .dataframe thead th {\n",
              "        text-align: right;\n",
              "    }\n",
              "</style>\n",
              "<table border=\"1\" class=\"dataframe\">\n",
              "  <thead>\n",
              "    <tr style=\"text-align: right;\">\n",
              "      <th></th>\n",
              "      <th>prompt</th>\n",
              "      <th>response</th>\n",
              "    </tr>\n",
              "  </thead>\n",
              "  <tbody>\n",
              "    <tr>\n",
              "      <th>0</th>\n",
              "      <td>I have oily skin and I keep getting acne. What...</td>\n",
              "      <td>A diet rich in fruits, vegetables, lean protei...</td>\n",
              "    </tr>\n",
              "    <tr>\n",
              "      <th>1</th>\n",
              "      <td>What daily skincare routine should I follow if...</td>\n",
              "      <td>For dry skin, the goal is to maintain hydratio...</td>\n",
              "    </tr>\n",
              "    <tr>\n",
              "      <th>2</th>\n",
              "      <td>How can I prevent premature skin aging? Can my...</td>\n",
              "      <td>Absolutely, diet can significantly impact your...</td>\n",
              "    </tr>\n",
              "  </tbody>\n",
              "</table>\n",
              "</div>\n",
              "    <div class=\"colab-df-buttons\">\n",
              "\n",
              "  <div class=\"colab-df-container\">\n",
              "    <button class=\"colab-df-convert\" onclick=\"convertToInteractive('df-7a888073-0de9-49fd-aab1-cd462b2c2ea1')\"\n",
              "            title=\"Convert this dataframe to an interactive table.\"\n",
              "            style=\"display:none;\">\n",
              "\n",
              "  <svg xmlns=\"http://www.w3.org/2000/svg\" height=\"24px\" viewBox=\"0 -960 960 960\">\n",
              "    <path d=\"M120-120v-720h720v720H120Zm60-500h600v-160H180v160Zm220 220h160v-160H400v160Zm0 220h160v-160H400v160ZM180-400h160v-160H180v160Zm440 0h160v-160H620v160ZM180-180h160v-160H180v160Zm440 0h160v-160H620v160Z\"/>\n",
              "  </svg>\n",
              "    </button>\n",
              "\n",
              "  <style>\n",
              "    .colab-df-container {\n",
              "      display:flex;\n",
              "      gap: 12px;\n",
              "    }\n",
              "\n",
              "    .colab-df-convert {\n",
              "      background-color: #E8F0FE;\n",
              "      border: none;\n",
              "      border-radius: 50%;\n",
              "      cursor: pointer;\n",
              "      display: none;\n",
              "      fill: #1967D2;\n",
              "      height: 32px;\n",
              "      padding: 0 0 0 0;\n",
              "      width: 32px;\n",
              "    }\n",
              "\n",
              "    .colab-df-convert:hover {\n",
              "      background-color: #E2EBFA;\n",
              "      box-shadow: 0px 1px 2px rgba(60, 64, 67, 0.3), 0px 1px 3px 1px rgba(60, 64, 67, 0.15);\n",
              "      fill: #174EA6;\n",
              "    }\n",
              "\n",
              "    .colab-df-buttons div {\n",
              "      margin-bottom: 4px;\n",
              "    }\n",
              "\n",
              "    [theme=dark] .colab-df-convert {\n",
              "      background-color: #3B4455;\n",
              "      fill: #D2E3FC;\n",
              "    }\n",
              "\n",
              "    [theme=dark] .colab-df-convert:hover {\n",
              "      background-color: #434B5C;\n",
              "      box-shadow: 0px 1px 3px 1px rgba(0, 0, 0, 0.15);\n",
              "      filter: drop-shadow(0px 1px 2px rgba(0, 0, 0, 0.3));\n",
              "      fill: #FFFFFF;\n",
              "    }\n",
              "  </style>\n",
              "\n",
              "    <script>\n",
              "      const buttonEl =\n",
              "        document.querySelector('#df-7a888073-0de9-49fd-aab1-cd462b2c2ea1 button.colab-df-convert');\n",
              "      buttonEl.style.display =\n",
              "        google.colab.kernel.accessAllowed ? 'block' : 'none';\n",
              "\n",
              "      async function convertToInteractive(key) {\n",
              "        const element = document.querySelector('#df-7a888073-0de9-49fd-aab1-cd462b2c2ea1');\n",
              "        const dataTable =\n",
              "          await google.colab.kernel.invokeFunction('convertToInteractive',\n",
              "                                                    [key], {});\n",
              "        if (!dataTable) return;\n",
              "\n",
              "        const docLinkHtml = 'Like what you see? Visit the ' +\n",
              "          '<a target=\"_blank\" href=https://colab.research.google.com/notebooks/data_table.ipynb>data table notebook</a>'\n",
              "          + ' to learn more about interactive tables.';\n",
              "        element.innerHTML = '';\n",
              "        dataTable['output_type'] = 'display_data';\n",
              "        await google.colab.output.renderOutput(dataTable, element);\n",
              "        const docLink = document.createElement('div');\n",
              "        docLink.innerHTML = docLinkHtml;\n",
              "        element.appendChild(docLink);\n",
              "      }\n",
              "    </script>\n",
              "  </div>\n",
              "\n",
              "\n",
              "<div id=\"df-d09013f6-2b92-456b-8801-9ec6c34fd434\">\n",
              "  <button class=\"colab-df-quickchart\" onclick=\"quickchart('df-d09013f6-2b92-456b-8801-9ec6c34fd434')\"\n",
              "            title=\"Suggest charts\"\n",
              "            style=\"display:none;\">\n",
              "\n",
              "<svg xmlns=\"http://www.w3.org/2000/svg\" height=\"24px\"viewBox=\"0 0 24 24\"\n",
              "     width=\"24px\">\n",
              "    <g>\n",
              "        <path d=\"M19 3H5c-1.1 0-2 .9-2 2v14c0 1.1.9 2 2 2h14c1.1 0 2-.9 2-2V5c0-1.1-.9-2-2-2zM9 17H7v-7h2v7zm4 0h-2V7h2v10zm4 0h-2v-4h2v4z\"/>\n",
              "    </g>\n",
              "</svg>\n",
              "  </button>\n",
              "\n",
              "<style>\n",
              "  .colab-df-quickchart {\n",
              "      --bg-color: #E8F0FE;\n",
              "      --fill-color: #1967D2;\n",
              "      --hover-bg-color: #E2EBFA;\n",
              "      --hover-fill-color: #174EA6;\n",
              "      --disabled-fill-color: #AAA;\n",
              "      --disabled-bg-color: #DDD;\n",
              "  }\n",
              "\n",
              "  [theme=dark] .colab-df-quickchart {\n",
              "      --bg-color: #3B4455;\n",
              "      --fill-color: #D2E3FC;\n",
              "      --hover-bg-color: #434B5C;\n",
              "      --hover-fill-color: #FFFFFF;\n",
              "      --disabled-bg-color: #3B4455;\n",
              "      --disabled-fill-color: #666;\n",
              "  }\n",
              "\n",
              "  .colab-df-quickchart {\n",
              "    background-color: var(--bg-color);\n",
              "    border: none;\n",
              "    border-radius: 50%;\n",
              "    cursor: pointer;\n",
              "    display: none;\n",
              "    fill: var(--fill-color);\n",
              "    height: 32px;\n",
              "    padding: 0;\n",
              "    width: 32px;\n",
              "  }\n",
              "\n",
              "  .colab-df-quickchart:hover {\n",
              "    background-color: var(--hover-bg-color);\n",
              "    box-shadow: 0 1px 2px rgba(60, 64, 67, 0.3), 0 1px 3px 1px rgba(60, 64, 67, 0.15);\n",
              "    fill: var(--button-hover-fill-color);\n",
              "  }\n",
              "\n",
              "  .colab-df-quickchart-complete:disabled,\n",
              "  .colab-df-quickchart-complete:disabled:hover {\n",
              "    background-color: var(--disabled-bg-color);\n",
              "    fill: var(--disabled-fill-color);\n",
              "    box-shadow: none;\n",
              "  }\n",
              "\n",
              "  .colab-df-spinner {\n",
              "    border: 2px solid var(--fill-color);\n",
              "    border-color: transparent;\n",
              "    border-bottom-color: var(--fill-color);\n",
              "    animation:\n",
              "      spin 1s steps(1) infinite;\n",
              "  }\n",
              "\n",
              "  @keyframes spin {\n",
              "    0% {\n",
              "      border-color: transparent;\n",
              "      border-bottom-color: var(--fill-color);\n",
              "      border-left-color: var(--fill-color);\n",
              "    }\n",
              "    20% {\n",
              "      border-color: transparent;\n",
              "      border-left-color: var(--fill-color);\n",
              "      border-top-color: var(--fill-color);\n",
              "    }\n",
              "    30% {\n",
              "      border-color: transparent;\n",
              "      border-left-color: var(--fill-color);\n",
              "      border-top-color: var(--fill-color);\n",
              "      border-right-color: var(--fill-color);\n",
              "    }\n",
              "    40% {\n",
              "      border-color: transparent;\n",
              "      border-right-color: var(--fill-color);\n",
              "      border-top-color: var(--fill-color);\n",
              "    }\n",
              "    60% {\n",
              "      border-color: transparent;\n",
              "      border-right-color: var(--fill-color);\n",
              "    }\n",
              "    80% {\n",
              "      border-color: transparent;\n",
              "      border-right-color: var(--fill-color);\n",
              "      border-bottom-color: var(--fill-color);\n",
              "    }\n",
              "    90% {\n",
              "      border-color: transparent;\n",
              "      border-bottom-color: var(--fill-color);\n",
              "    }\n",
              "  }\n",
              "</style>\n",
              "\n",
              "  <script>\n",
              "    async function quickchart(key) {\n",
              "      const quickchartButtonEl =\n",
              "        document.querySelector('#' + key + ' button');\n",
              "      quickchartButtonEl.disabled = true;  // To prevent multiple clicks.\n",
              "      quickchartButtonEl.classList.add('colab-df-spinner');\n",
              "      try {\n",
              "        const charts = await google.colab.kernel.invokeFunction(\n",
              "            'suggestCharts', [key], {});\n",
              "      } catch (error) {\n",
              "        console.error('Error during call to suggestCharts:', error);\n",
              "      }\n",
              "      quickchartButtonEl.classList.remove('colab-df-spinner');\n",
              "      quickchartButtonEl.classList.add('colab-df-quickchart-complete');\n",
              "    }\n",
              "    (() => {\n",
              "      let quickchartButtonEl =\n",
              "        document.querySelector('#df-d09013f6-2b92-456b-8801-9ec6c34fd434 button');\n",
              "      quickchartButtonEl.style.display =\n",
              "        google.colab.kernel.accessAllowed ? 'block' : 'none';\n",
              "    })();\n",
              "  </script>\n",
              "</div>\n",
              "    </div>\n",
              "  </div>\n"
            ]
          },
          "metadata": {},
          "execution_count": 15
        }
      ]
    },
    {
      "cell_type": "code",
      "source": [
        "print(len(prev_examples))\n",
        "print(prev_examples)"
      ],
      "metadata": {
        "colab": {
          "base_uri": "https://localhost:8080/"
        },
        "id": "q0P6jeHbGiAH",
        "outputId": "ef1ee7b5-0ae5-4713-cb30-26195697865c"
      },
      "execution_count": 16,
      "outputs": [
        {
          "output_type": "stream",
          "name": "stdout",
          "text": [
            "3\n",
            "[\"prompt\\n-----------\\nI have oily skin and I keep getting acne. What kind of diet can I follow to help improve my condition?\\n-----------\\n\\nresponse\\n-----------\\nA diet rich in fruits, vegetables, lean proteins, and whole grains can be beneficial for your skin. Specifically, foods high in omega-3 fatty acids like fish and walnuts, as well as foods with antioxidants such as berries and leafy greens can help control oil production and fight inflammation. Avoid processed foods, sugars and dairy, as they can trigger hormonal shifts and lead to acne. Drinking plenty of water is also essential to keep your skin hydrated and flush out toxins. However, everyone's body responds differently, so it might be beneficial to consult with a dietitian for a personalized plan. \\n-----------\\n\", \"prompt\\n-----------\\nWhat daily skincare routine should I follow if I have dry skin?\\n-----------\\n\\nresponse\\n-----------\\nFor dry skin, the goal is to maintain hydration and protect the skin's barrier. Here's a simple skincare routine:\\n\\n1. **Cleansing:** Start your day by using a gentle, cream-based cleanser that doesn't strip away your skin's natural oils.\\n\\n2. **Toning:** Apply a hydrating toner to help balance your skin's pH levels. Look for ingredients like hyaluronic acid and glycerin which are known to attract moisture.\\n\\n3. **Serum:** Use a hydrating serum with ingredients like hyaluronic acid or vitamin E. \\n\\n4. **Moisturizer:** Apply a rich moisturizer that locks in the hydration. Avoid alcohol-based or other drying ingredients.\\n\\n5. **Sunscreen:** During the day, always finish with a broad-spectrum sunscreen with at least SPF 30 to protect your skin from harmful UV rays.\\n\\n6\", \"prompt\\n-----------\\nHow can I prevent premature skin aging? Can my diet play a part in it?\\n-----------\\n\\nresponse\\n-----------\\nAbsolutely, diet can significantly impact your skin's health and aging process. Here are some tips:\\n\\n1. **Antioxidant-rich Foods:** Include fruits and vegetables high in antioxidants, such as berries, oranges, spinach, and bell peppers. Antioxidants neutralize harmful free radicals that can damage skin cells and lead to aging.\\n\\n2. **Hydrate:** Stay hydrated by drinking plenty of water throughout the day, this will keep your skin plump and resilient.\\n\\n3. **Omega-3 Fats:** Foods high in Omega-3 fatty acids like fish, flaxseeds, and walnuts can help keep skin moisturized and prevent dryness.\\n\\n4. **Avoid Sugar:** Excessive sugar can cause inflammation and damage collagen fibers, leading to wrinkles. Consider reducing your sugar intake.\\n\\n5. **Avoid Sun Damage:** Too much sun exposure can cause premature skin aging\"]\n"
          ]
        }
      ]
    },
    {
      "cell_type": "markdown",
      "source": [
        "# Saving the Dataset File"
      ],
      "metadata": {
        "id": "zqveos2Me5Kk"
      }
    },
    {
      "cell_type": "code",
      "source": [
        "csv_file_path = 'generated_data23.csv'\n",
        "df.to_csv(csv_file_path, index=False)\n",
        "print(f'Data saved to {csv_file_path}')"
      ],
      "metadata": {
        "colab": {
          "base_uri": "https://localhost:8080/"
        },
        "id": "Z_3EX-0wGjxZ",
        "outputId": "8d203866-1c31-47aa-e18e-ec8b3ded24c8"
      },
      "execution_count": 17,
      "outputs": [
        {
          "output_type": "stream",
          "name": "stdout",
          "text": [
            "Data saved to generated_data23.csv\n"
          ]
        }
      ]
    },
    {
      "cell_type": "code",
      "source": [
        "import pandas as pd\n",
        "csv_file_path = 'generated_data23.csv'\n",
        "df = pd.read_csv(csv_file_path)\n",
        "print('Here are the first few rows of the DataFrame:')\n",
        "df.tail(10)"
      ],
      "metadata": {
        "colab": {
          "base_uri": "https://localhost:8080/",
          "height": 161
        },
        "id": "bonz_X73GlXD",
        "outputId": "4429a25f-67f7-489d-d6b2-a31e655d78ad"
      },
      "execution_count": 19,
      "outputs": [
        {
          "output_type": "stream",
          "name": "stdout",
          "text": [
            "Here are the first few rows of the DataFrame:\n"
          ]
        },
        {
          "output_type": "execute_result",
          "data": {
            "text/plain": [
              "                                              prompt  \\\n",
              "0  I have oily skin and I keep getting acne. What...   \n",
              "1  What daily skincare routine should I follow if...   \n",
              "2  How can I prevent premature skin aging? Can my...   \n",
              "\n",
              "                                            response  \n",
              "0  A diet rich in fruits, vegetables, lean protei...  \n",
              "1  For dry skin, the goal is to maintain hydratio...  \n",
              "2  Absolutely, diet can significantly impact your...  "
            ],
            "text/html": [
              "\n",
              "  <div id=\"df-ef8f32d5-1091-41d7-9a00-054a13c53e11\" class=\"colab-df-container\">\n",
              "    <div>\n",
              "<style scoped>\n",
              "    .dataframe tbody tr th:only-of-type {\n",
              "        vertical-align: middle;\n",
              "    }\n",
              "\n",
              "    .dataframe tbody tr th {\n",
              "        vertical-align: top;\n",
              "    }\n",
              "\n",
              "    .dataframe thead th {\n",
              "        text-align: right;\n",
              "    }\n",
              "</style>\n",
              "<table border=\"1\" class=\"dataframe\">\n",
              "  <thead>\n",
              "    <tr style=\"text-align: right;\">\n",
              "      <th></th>\n",
              "      <th>prompt</th>\n",
              "      <th>response</th>\n",
              "    </tr>\n",
              "  </thead>\n",
              "  <tbody>\n",
              "    <tr>\n",
              "      <th>0</th>\n",
              "      <td>I have oily skin and I keep getting acne. What...</td>\n",
              "      <td>A diet rich in fruits, vegetables, lean protei...</td>\n",
              "    </tr>\n",
              "    <tr>\n",
              "      <th>1</th>\n",
              "      <td>What daily skincare routine should I follow if...</td>\n",
              "      <td>For dry skin, the goal is to maintain hydratio...</td>\n",
              "    </tr>\n",
              "    <tr>\n",
              "      <th>2</th>\n",
              "      <td>How can I prevent premature skin aging? Can my...</td>\n",
              "      <td>Absolutely, diet can significantly impact your...</td>\n",
              "    </tr>\n",
              "  </tbody>\n",
              "</table>\n",
              "</div>\n",
              "    <div class=\"colab-df-buttons\">\n",
              "\n",
              "  <div class=\"colab-df-container\">\n",
              "    <button class=\"colab-df-convert\" onclick=\"convertToInteractive('df-ef8f32d5-1091-41d7-9a00-054a13c53e11')\"\n",
              "            title=\"Convert this dataframe to an interactive table.\"\n",
              "            style=\"display:none;\">\n",
              "\n",
              "  <svg xmlns=\"http://www.w3.org/2000/svg\" height=\"24px\" viewBox=\"0 -960 960 960\">\n",
              "    <path d=\"M120-120v-720h720v720H120Zm60-500h600v-160H180v160Zm220 220h160v-160H400v160Zm0 220h160v-160H400v160ZM180-400h160v-160H180v160Zm440 0h160v-160H620v160ZM180-180h160v-160H180v160Zm440 0h160v-160H620v160Z\"/>\n",
              "  </svg>\n",
              "    </button>\n",
              "\n",
              "  <style>\n",
              "    .colab-df-container {\n",
              "      display:flex;\n",
              "      gap: 12px;\n",
              "    }\n",
              "\n",
              "    .colab-df-convert {\n",
              "      background-color: #E8F0FE;\n",
              "      border: none;\n",
              "      border-radius: 50%;\n",
              "      cursor: pointer;\n",
              "      display: none;\n",
              "      fill: #1967D2;\n",
              "      height: 32px;\n",
              "      padding: 0 0 0 0;\n",
              "      width: 32px;\n",
              "    }\n",
              "\n",
              "    .colab-df-convert:hover {\n",
              "      background-color: #E2EBFA;\n",
              "      box-shadow: 0px 1px 2px rgba(60, 64, 67, 0.3), 0px 1px 3px 1px rgba(60, 64, 67, 0.15);\n",
              "      fill: #174EA6;\n",
              "    }\n",
              "\n",
              "    .colab-df-buttons div {\n",
              "      margin-bottom: 4px;\n",
              "    }\n",
              "\n",
              "    [theme=dark] .colab-df-convert {\n",
              "      background-color: #3B4455;\n",
              "      fill: #D2E3FC;\n",
              "    }\n",
              "\n",
              "    [theme=dark] .colab-df-convert:hover {\n",
              "      background-color: #434B5C;\n",
              "      box-shadow: 0px 1px 3px 1px rgba(0, 0, 0, 0.15);\n",
              "      filter: drop-shadow(0px 1px 2px rgba(0, 0, 0, 0.3));\n",
              "      fill: #FFFFFF;\n",
              "    }\n",
              "  </style>\n",
              "\n",
              "    <script>\n",
              "      const buttonEl =\n",
              "        document.querySelector('#df-ef8f32d5-1091-41d7-9a00-054a13c53e11 button.colab-df-convert');\n",
              "      buttonEl.style.display =\n",
              "        google.colab.kernel.accessAllowed ? 'block' : 'none';\n",
              "\n",
              "      async function convertToInteractive(key) {\n",
              "        const element = document.querySelector('#df-ef8f32d5-1091-41d7-9a00-054a13c53e11');\n",
              "        const dataTable =\n",
              "          await google.colab.kernel.invokeFunction('convertToInteractive',\n",
              "                                                    [key], {});\n",
              "        if (!dataTable) return;\n",
              "\n",
              "        const docLinkHtml = 'Like what you see? Visit the ' +\n",
              "          '<a target=\"_blank\" href=https://colab.research.google.com/notebooks/data_table.ipynb>data table notebook</a>'\n",
              "          + ' to learn more about interactive tables.';\n",
              "        element.innerHTML = '';\n",
              "        dataTable['output_type'] = 'display_data';\n",
              "        await google.colab.output.renderOutput(dataTable, element);\n",
              "        const docLink = document.createElement('div');\n",
              "        docLink.innerHTML = docLinkHtml;\n",
              "        element.appendChild(docLink);\n",
              "      }\n",
              "    </script>\n",
              "  </div>\n",
              "\n",
              "\n",
              "<div id=\"df-59808e8a-896b-49b8-96f7-c0e36d28089c\">\n",
              "  <button class=\"colab-df-quickchart\" onclick=\"quickchart('df-59808e8a-896b-49b8-96f7-c0e36d28089c')\"\n",
              "            title=\"Suggest charts\"\n",
              "            style=\"display:none;\">\n",
              "\n",
              "<svg xmlns=\"http://www.w3.org/2000/svg\" height=\"24px\"viewBox=\"0 0 24 24\"\n",
              "     width=\"24px\">\n",
              "    <g>\n",
              "        <path d=\"M19 3H5c-1.1 0-2 .9-2 2v14c0 1.1.9 2 2 2h14c1.1 0 2-.9 2-2V5c0-1.1-.9-2-2-2zM9 17H7v-7h2v7zm4 0h-2V7h2v10zm4 0h-2v-4h2v4z\"/>\n",
              "    </g>\n",
              "</svg>\n",
              "  </button>\n",
              "\n",
              "<style>\n",
              "  .colab-df-quickchart {\n",
              "      --bg-color: #E8F0FE;\n",
              "      --fill-color: #1967D2;\n",
              "      --hover-bg-color: #E2EBFA;\n",
              "      --hover-fill-color: #174EA6;\n",
              "      --disabled-fill-color: #AAA;\n",
              "      --disabled-bg-color: #DDD;\n",
              "  }\n",
              "\n",
              "  [theme=dark] .colab-df-quickchart {\n",
              "      --bg-color: #3B4455;\n",
              "      --fill-color: #D2E3FC;\n",
              "      --hover-bg-color: #434B5C;\n",
              "      --hover-fill-color: #FFFFFF;\n",
              "      --disabled-bg-color: #3B4455;\n",
              "      --disabled-fill-color: #666;\n",
              "  }\n",
              "\n",
              "  .colab-df-quickchart {\n",
              "    background-color: var(--bg-color);\n",
              "    border: none;\n",
              "    border-radius: 50%;\n",
              "    cursor: pointer;\n",
              "    display: none;\n",
              "    fill: var(--fill-color);\n",
              "    height: 32px;\n",
              "    padding: 0;\n",
              "    width: 32px;\n",
              "  }\n",
              "\n",
              "  .colab-df-quickchart:hover {\n",
              "    background-color: var(--hover-bg-color);\n",
              "    box-shadow: 0 1px 2px rgba(60, 64, 67, 0.3), 0 1px 3px 1px rgba(60, 64, 67, 0.15);\n",
              "    fill: var(--button-hover-fill-color);\n",
              "  }\n",
              "\n",
              "  .colab-df-quickchart-complete:disabled,\n",
              "  .colab-df-quickchart-complete:disabled:hover {\n",
              "    background-color: var(--disabled-bg-color);\n",
              "    fill: var(--disabled-fill-color);\n",
              "    box-shadow: none;\n",
              "  }\n",
              "\n",
              "  .colab-df-spinner {\n",
              "    border: 2px solid var(--fill-color);\n",
              "    border-color: transparent;\n",
              "    border-bottom-color: var(--fill-color);\n",
              "    animation:\n",
              "      spin 1s steps(1) infinite;\n",
              "  }\n",
              "\n",
              "  @keyframes spin {\n",
              "    0% {\n",
              "      border-color: transparent;\n",
              "      border-bottom-color: var(--fill-color);\n",
              "      border-left-color: var(--fill-color);\n",
              "    }\n",
              "    20% {\n",
              "      border-color: transparent;\n",
              "      border-left-color: var(--fill-color);\n",
              "      border-top-color: var(--fill-color);\n",
              "    }\n",
              "    30% {\n",
              "      border-color: transparent;\n",
              "      border-left-color: var(--fill-color);\n",
              "      border-top-color: var(--fill-color);\n",
              "      border-right-color: var(--fill-color);\n",
              "    }\n",
              "    40% {\n",
              "      border-color: transparent;\n",
              "      border-right-color: var(--fill-color);\n",
              "      border-top-color: var(--fill-color);\n",
              "    }\n",
              "    60% {\n",
              "      border-color: transparent;\n",
              "      border-right-color: var(--fill-color);\n",
              "    }\n",
              "    80% {\n",
              "      border-color: transparent;\n",
              "      border-right-color: var(--fill-color);\n",
              "      border-bottom-color: var(--fill-color);\n",
              "    }\n",
              "    90% {\n",
              "      border-color: transparent;\n",
              "      border-bottom-color: var(--fill-color);\n",
              "    }\n",
              "  }\n",
              "</style>\n",
              "\n",
              "  <script>\n",
              "    async function quickchart(key) {\n",
              "      const quickchartButtonEl =\n",
              "        document.querySelector('#' + key + ' button');\n",
              "      quickchartButtonEl.disabled = true;  // To prevent multiple clicks.\n",
              "      quickchartButtonEl.classList.add('colab-df-spinner');\n",
              "      try {\n",
              "        const charts = await google.colab.kernel.invokeFunction(\n",
              "            'suggestCharts', [key], {});\n",
              "      } catch (error) {\n",
              "        console.error('Error during call to suggestCharts:', error);\n",
              "      }\n",
              "      quickchartButtonEl.classList.remove('colab-df-spinner');\n",
              "      quickchartButtonEl.classList.add('colab-df-quickchart-complete');\n",
              "    }\n",
              "    (() => {\n",
              "      let quickchartButtonEl =\n",
              "        document.querySelector('#df-59808e8a-896b-49b8-96f7-c0e36d28089c button');\n",
              "      quickchartButtonEl.style.display =\n",
              "        google.colab.kernel.accessAllowed ? 'block' : 'none';\n",
              "    })();\n",
              "  </script>\n",
              "</div>\n",
              "    </div>\n",
              "  </div>\n"
            ]
          },
          "metadata": {},
          "execution_count": 19
        }
      ]
    },
    {
      "cell_type": "markdown",
      "source": [
        "# These are Just Few Examples We can Generate more As Well. It would be Better if we have at least a 100 Rows of dataset for FineTunning"
      ],
      "metadata": {
        "id": "if7mxgfPn8Bc"
      }
    },
    {
      "cell_type": "code",
      "source": [
        "len(df)"
      ],
      "metadata": {
        "colab": {
          "base_uri": "https://localhost:8080/"
        },
        "id": "6mbRVgrYGm3-",
        "outputId": "2c67400b-adf5-4fb3-8718-648e5e674ad9"
      },
      "execution_count": 20,
      "outputs": [
        {
          "output_type": "execute_result",
          "data": {
            "text/plain": [
              "3"
            ]
          },
          "metadata": {},
          "execution_count": 20
        }
      ]
    },
    {
      "cell_type": "markdown",
      "source": [
        "# Later I Hope To Combine These CSVs For Final Data Preperation and Analysis."
      ],
      "metadata": {
        "id": "n280fOJons0M"
      }
    }
  ]
}
